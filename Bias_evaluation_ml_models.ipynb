{
  "nbformat": 4,
  "nbformat_minor": 0,
  "metadata": {
    "colab": {
      "provenance": [],
      "collapsed_sections": [
        "mY4w2D_YEpn7",
        "XPaFLazpVZCV",
        "rPTTezuXgo60",
        "AeZanQSFg4Vx",
        "ZBWgqPOG3i0i",
        "nkwJ038XCIsS",
        "Pr_gdiDtEFfF",
        "Y4IkvVv5EJvA",
        "ujZdlRbnArXC"
      ],
      "toc_visible": true,
      "authorship_tag": "ABX9TyMCFrXcymy3Bb26GSLuVfS9",
      "include_colab_link": true
    },
    "kernelspec": {
      "name": "python3",
      "display_name": "Python 3"
    },
    "language_info": {
      "name": "python"
    }
  },
  "cells": [
    {
      "cell_type": "markdown",
      "metadata": {
        "id": "view-in-github",
        "colab_type": "text"
      },
      "source": [
        "<a href=\"https://colab.research.google.com/github/luisafelixx/Fairness_Diabetes/blob/main/aprendizado_e_fairness_IC.ipynb\" target=\"_parent\"><img src=\"https://colab.research.google.com/assets/colab-badge.svg\" alt=\"Open In Colab\"/></a>"
      ]
    },
    {
      "cell_type": "markdown",
      "source": [
        "# Import de Bibliotecas"
      ],
      "metadata": {
        "id": "BugnF98MZMw5"
      }
    },
    {
      "cell_type": "code",
      "source": [
        "import pandas as pd\n",
        "import numpy as np"
      ],
      "metadata": {
        "id": "aJceCC_zJ8hT"
      },
      "execution_count": null,
      "outputs": []
    },
    {
      "cell_type": "code",
      "source": [
        "!pip install catboost"
      ],
      "metadata": {
        "colab": {
          "base_uri": "https://localhost:8080/"
        },
        "id": "jgufsITCYUhh",
        "outputId": "e457e286-0263-42da-9306-fed08870f159"
      },
      "execution_count": null,
      "outputs": [
        {
          "output_type": "stream",
          "name": "stdout",
          "text": [
            "Collecting catboost\n",
            "  Downloading catboost-1.2.8-cp311-cp311-manylinux2014_x86_64.whl.metadata (1.2 kB)\n",
            "Requirement already satisfied: graphviz in /usr/local/lib/python3.11/dist-packages (from catboost) (0.20.3)\n",
            "Requirement already satisfied: matplotlib in /usr/local/lib/python3.11/dist-packages (from catboost) (3.10.0)\n",
            "Requirement already satisfied: numpy<3.0,>=1.16.0 in /usr/local/lib/python3.11/dist-packages (from catboost) (2.0.2)\n",
            "Requirement already satisfied: pandas>=0.24 in /usr/local/lib/python3.11/dist-packages (from catboost) (2.2.2)\n",
            "Requirement already satisfied: scipy in /usr/local/lib/python3.11/dist-packages (from catboost) (1.15.2)\n",
            "Requirement already satisfied: plotly in /usr/local/lib/python3.11/dist-packages (from catboost) (5.24.1)\n",
            "Requirement already satisfied: six in /usr/local/lib/python3.11/dist-packages (from catboost) (1.17.0)\n",
            "Requirement already satisfied: python-dateutil>=2.8.2 in /usr/local/lib/python3.11/dist-packages (from pandas>=0.24->catboost) (2.9.0.post0)\n",
            "Requirement already satisfied: pytz>=2020.1 in /usr/local/lib/python3.11/dist-packages (from pandas>=0.24->catboost) (2025.2)\n",
            "Requirement already satisfied: tzdata>=2022.7 in /usr/local/lib/python3.11/dist-packages (from pandas>=0.24->catboost) (2025.2)\n",
            "Requirement already satisfied: contourpy>=1.0.1 in /usr/local/lib/python3.11/dist-packages (from matplotlib->catboost) (1.3.2)\n",
            "Requirement already satisfied: cycler>=0.10 in /usr/local/lib/python3.11/dist-packages (from matplotlib->catboost) (0.12.1)\n",
            "Requirement already satisfied: fonttools>=4.22.0 in /usr/local/lib/python3.11/dist-packages (from matplotlib->catboost) (4.57.0)\n",
            "Requirement already satisfied: kiwisolver>=1.3.1 in /usr/local/lib/python3.11/dist-packages (from matplotlib->catboost) (1.4.8)\n",
            "Requirement already satisfied: packaging>=20.0 in /usr/local/lib/python3.11/dist-packages (from matplotlib->catboost) (24.2)\n",
            "Requirement already satisfied: pillow>=8 in /usr/local/lib/python3.11/dist-packages (from matplotlib->catboost) (11.2.1)\n",
            "Requirement already satisfied: pyparsing>=2.3.1 in /usr/local/lib/python3.11/dist-packages (from matplotlib->catboost) (3.2.3)\n",
            "Requirement already satisfied: tenacity>=6.2.0 in /usr/local/lib/python3.11/dist-packages (from plotly->catboost) (9.1.2)\n",
            "Downloading catboost-1.2.8-cp311-cp311-manylinux2014_x86_64.whl (99.2 MB)\n",
            "\u001b[2K   \u001b[90m━━━━━━━━━━━━━━━━━━━━━━━━━━━━━━━━━━━━━━━━\u001b[0m \u001b[32m99.2/99.2 MB\u001b[0m \u001b[31m5.0 MB/s\u001b[0m eta \u001b[36m0:00:00\u001b[0m\n",
            "\u001b[?25hInstalling collected packages: catboost\n",
            "Successfully installed catboost-1.2.8\n"
          ]
        }
      ]
    },
    {
      "cell_type": "code",
      "source": [
        "# Bibliotecas para manipulação de dados\n",
        "import pandas as pd\n",
        "import numpy as np\n",
        "\n",
        "# Bibliotecas para visualização\n",
        "import seaborn as sns\n",
        "import matplotlib.pyplot as plt\n",
        "\n",
        "# Bibliotecas para manipulação de dados e modelagem\n",
        "from sklearn.model_selection import train_test_split, KFold, cross_val_score\n",
        "from sklearn.preprocessing import StandardScaler\n",
        "from sklearn.datasets import make_classification\n",
        "\n",
        "# Modelos de Machine Learning\n",
        "from sklearn.linear_model import LogisticRegression, SGDClassifier\n",
        "from sklearn.svm import SVC\n",
        "from sklearn.tree import DecisionTreeClassifier, plot_tree\n",
        "from sklearn.ensemble import AdaBoostClassifier\n",
        "#from catboost import CatBoostClassifier\n",
        "import xgboost as xgb\n",
        "from catboost import CatBoostClassifier\n",
        "\n",
        "# Métricas de avaliação\n",
        "from sklearn.metrics import (\n",
        "    accuracy_score, precision_score, recall_score, f1_score, roc_auc_score,\n",
        "    confusion_matrix, ConfusionMatrixDisplay, classification_report\n",
        ")\n",
        "\n",
        "#Métricas de Fairness\n",
        "from aif360.sklearn.metrics import (\n",
        "    statistical_parity_difference,\n",
        "    equal_opportunity_difference,\n",
        "    average_odds_difference,\n",
        "    disparate_impact_ratio,\n",
        "\n",
        ")\n",
        "\n",
        "#Mitigação\n",
        "from aif360.datasets import BinaryLabelDataset\n",
        "from aif360.algorithms.preprocessing import Reweighing\n",
        "from aif360.metrics import ClassificationMetric\n",
        "from aif360.metrics import BinaryLabelDatasetMetric\n",
        "from aif360.algorithms.inprocessing import PrejudiceRemover\n"
      ],
      "metadata": {
        "id": "hmINdU78Vks3",
        "colab": {
          "base_uri": "https://localhost:8080/"
        },
        "outputId": "1a9d914c-f23e-480d-dcaf-a13e1e4aa90a"
      },
      "execution_count": null,
      "outputs": [
        {
          "output_type": "stream",
          "name": "stderr",
          "text": [
            "WARNING:root:No module named 'fairlearn': ExponentiatedGradientReduction will be unavailable. To install, run:\n",
            "pip install 'aif360[Reductions]'\n",
            "WARNING:root:No module named 'fairlearn': GridSearchReduction will be unavailable. To install, run:\n",
            "pip install 'aif360[Reductions]'\n",
            "WARNING:root:No module named 'inFairness': SenSeI and SenSR will be unavailable. To install, run:\n",
            "pip install 'aif360[inFairness]'\n",
            "WARNING:root:No module named 'fairlearn': GridSearchReduction will be unavailable. To install, run:\n",
            "pip install 'aif360[Reductions]'\n",
            "WARNING:root:No module named 'ot': ot_distance will be unavailable. To install, run:\n",
            "pip install 'aif360[OptimalTransport]'\n"
          ]
        }
      ]
    },
    {
      "cell_type": "code",
      "source": [
        "data = pd.read_csv('dados_limpos2015.csv')"
      ],
      "metadata": {
        "id": "nMHruDgTvs0H"
      },
      "execution_count": null,
      "outputs": []
    },
    {
      "cell_type": "markdown",
      "source": [
        "# Modelos de Aprendizagem"
      ],
      "metadata": {
        "id": "AbxzmjDcOWJi"
      }
    },
    {
      "cell_type": "markdown",
      "source": [
        "## Histograma Multimétricas"
      ],
      "metadata": {
        "id": "xTp1FxP4K4pe"
      }
    },
    {
      "cell_type": "code",
      "source": [
        "X = data.drop(columns = ['Diabetes'])\n",
        "y = data['Diabetes']"
      ],
      "metadata": {
        "id": "kYdAvvYSKmgD"
      },
      "execution_count": null,
      "outputs": []
    },
    {
      "cell_type": "code",
      "source": [
        "X_train, X_test, y_train, y_test = train_test_split(X, y, test_size=0.3, random_state=42)"
      ],
      "metadata": {
        "id": "xonwHAz4Ks4_"
      },
      "execution_count": null,
      "outputs": []
    },
    {
      "cell_type": "code",
      "source": [
        "modelos = [\n",
        "    ('Logistic Regression', LogisticRegression()),\n",
        "    ('Decision Tree', DecisionTreeClassifier(criterion='gini', max_depth=5)),\n",
        "    ('SVM', SGDClassifier(loss=\"hinge\", random_state=42)),\n",
        "    ('AdaBoost', AdaBoostClassifier(\n",
        "        DecisionTreeClassifier(max_depth=1),\n",
        "        n_estimators=50,\n",
        "        learning_rate=1.0,\n",
        "        random_state=42\n",
        "    )),\n",
        "    ('XBoost', xgb.XGBClassifier(\n",
        "        n_estimators=100,\n",
        "        learning_rate=0.1,\n",
        "        max_depth=3,\n",
        "        random_state=42\n",
        "    )),\n",
        "    ('CatBoost', CatBoostClassifier(\n",
        "        iterations=100,\n",
        "        learning_rate=0.1,\n",
        "        depth=6,\n",
        "        loss_function='Logloss',\n",
        "        random_seed=42\n",
        "    ))\n",
        "]"
      ],
      "metadata": {
        "id": "yc8fnEtZKx6-"
      },
      "execution_count": null,
      "outputs": []
    },
    {
      "cell_type": "code",
      "source": [
        "resultados = {}\n",
        "\n",
        "for nome, modelo in modelos:\n",
        "    modelo.fit(X_train, y_train)\n",
        "    y_pred = modelo.predict(X_test)\n",
        "\n",
        "    try:\n",
        "        y_proba = modelo.predict_proba(X_test)[:, 1]\n",
        "    except AttributeError:\n",
        "        y_proba = modelo.decision_function(X_test)\n",
        "\n",
        "    resultados[nome] = {\n",
        "        'Acurácia': accuracy_score(y_test, y_pred),\n",
        "        'Precisão': precision_score(y_test, y_pred),\n",
        "        'Recall': recall_score(y_test, y_pred),\n",
        "        'F1-Score': f1_score(y_test, y_pred),\n",
        "        'ROC AUC': roc_auc_score(y_test, y_proba)\n",
        "    }\n",
        "\n",
        "df_resultados = pd.DataFrame(resultados)\n",
        "\n",
        "print(df_resultados)\n",
        "\n"
      ],
      "metadata": {
        "colab": {
          "base_uri": "https://localhost:8080/"
        },
        "id": "E615Un5XMGyj",
        "outputId": "e53e3b96-6829-4b15-bb06-8b112f600086"
      },
      "execution_count": null,
      "outputs": [
        {
          "output_type": "stream",
          "name": "stderr",
          "text": [
            "/usr/local/lib/python3.11/dist-packages/sklearn/linear_model/_logistic.py:465: ConvergenceWarning: lbfgs failed to converge (status=1):\n",
            "STOP: TOTAL NO. of ITERATIONS REACHED LIMIT.\n",
            "\n",
            "Increase the number of iterations (max_iter) or scale the data as shown in:\n",
            "    https://scikit-learn.org/stable/modules/preprocessing.html\n",
            "Please also refer to the documentation for alternative solver options:\n",
            "    https://scikit-learn.org/stable/modules/linear_model.html#logistic-regression\n",
            "  n_iter_i = _check_optimize_result(\n"
          ]
        },
        {
          "output_type": "stream",
          "name": "stdout",
          "text": [
            "0:\tlearn: 0.6079095\ttotal: 99.1ms\tremaining: 9.81s\n",
            "1:\tlearn: 0.5479018\ttotal: 144ms\tremaining: 7.07s\n",
            "2:\tlearn: 0.5023386\ttotal: 213ms\tremaining: 6.87s\n",
            "3:\tlearn: 0.4661481\ttotal: 264ms\tremaining: 6.34s\n",
            "4:\tlearn: 0.4392728\ttotal: 306ms\tremaining: 5.81s\n",
            "5:\tlearn: 0.4175959\ttotal: 345ms\tremaining: 5.4s\n",
            "6:\tlearn: 0.4007217\ttotal: 389ms\tremaining: 5.17s\n",
            "7:\tlearn: 0.3895873\ttotal: 428ms\tremaining: 4.92s\n",
            "8:\tlearn: 0.3801493\ttotal: 465ms\tremaining: 4.7s\n",
            "9:\tlearn: 0.3726861\ttotal: 512ms\tremaining: 4.61s\n",
            "10:\tlearn: 0.3658627\ttotal: 557ms\tremaining: 4.51s\n",
            "11:\tlearn: 0.3612587\ttotal: 625ms\tremaining: 4.59s\n",
            "12:\tlearn: 0.3570960\ttotal: 668ms\tremaining: 4.47s\n",
            "13:\tlearn: 0.3541987\ttotal: 707ms\tremaining: 4.34s\n",
            "14:\tlearn: 0.3514331\ttotal: 752ms\tremaining: 4.26s\n",
            "15:\tlearn: 0.3491151\ttotal: 799ms\tremaining: 4.2s\n",
            "16:\tlearn: 0.3471863\ttotal: 843ms\tremaining: 4.11s\n",
            "17:\tlearn: 0.3453208\ttotal: 884ms\tremaining: 4.03s\n",
            "18:\tlearn: 0.3442864\ttotal: 927ms\tremaining: 3.95s\n",
            "19:\tlearn: 0.3432559\ttotal: 975ms\tremaining: 3.9s\n",
            "20:\tlearn: 0.3421865\ttotal: 1.02s\tremaining: 3.82s\n",
            "21:\tlearn: 0.3414280\ttotal: 1.05s\tremaining: 3.74s\n",
            "22:\tlearn: 0.3408296\ttotal: 1.09s\tremaining: 3.66s\n",
            "23:\tlearn: 0.3401885\ttotal: 1.14s\tremaining: 3.6s\n",
            "24:\tlearn: 0.3395133\ttotal: 1.18s\tremaining: 3.54s\n",
            "25:\tlearn: 0.3389760\ttotal: 1.22s\tremaining: 3.47s\n",
            "26:\tlearn: 0.3384930\ttotal: 1.26s\tremaining: 3.41s\n",
            "27:\tlearn: 0.3380762\ttotal: 1.3s\tremaining: 3.35s\n",
            "28:\tlearn: 0.3377431\ttotal: 1.34s\tremaining: 3.29s\n",
            "29:\tlearn: 0.3374980\ttotal: 1.39s\tremaining: 3.24s\n",
            "30:\tlearn: 0.3372067\ttotal: 1.43s\tremaining: 3.18s\n",
            "31:\tlearn: 0.3368355\ttotal: 1.47s\tremaining: 3.13s\n",
            "32:\tlearn: 0.3366048\ttotal: 1.51s\tremaining: 3.07s\n",
            "33:\tlearn: 0.3364565\ttotal: 1.55s\tremaining: 3.02s\n",
            "34:\tlearn: 0.3361554\ttotal: 1.6s\tremaining: 2.97s\n",
            "35:\tlearn: 0.3359609\ttotal: 1.66s\tremaining: 2.96s\n",
            "36:\tlearn: 0.3357892\ttotal: 1.71s\tremaining: 2.91s\n",
            "37:\tlearn: 0.3355930\ttotal: 1.75s\tremaining: 2.85s\n",
            "38:\tlearn: 0.3354002\ttotal: 1.79s\tremaining: 2.81s\n",
            "39:\tlearn: 0.3353020\ttotal: 1.84s\tremaining: 2.76s\n",
            "40:\tlearn: 0.3351146\ttotal: 1.88s\tremaining: 2.71s\n",
            "41:\tlearn: 0.3350068\ttotal: 1.93s\tremaining: 2.66s\n",
            "42:\tlearn: 0.3348937\ttotal: 1.97s\tremaining: 2.61s\n",
            "43:\tlearn: 0.3348141\ttotal: 2.02s\tremaining: 2.56s\n",
            "44:\tlearn: 0.3347023\ttotal: 2.06s\tremaining: 2.52s\n",
            "45:\tlearn: 0.3345655\ttotal: 2.11s\tremaining: 2.47s\n",
            "46:\tlearn: 0.3344754\ttotal: 2.15s\tremaining: 2.43s\n",
            "47:\tlearn: 0.3343252\ttotal: 2.2s\tremaining: 2.38s\n",
            "48:\tlearn: 0.3342407\ttotal: 2.24s\tremaining: 2.33s\n",
            "49:\tlearn: 0.3340977\ttotal: 2.28s\tremaining: 2.28s\n",
            "50:\tlearn: 0.3340187\ttotal: 2.33s\tremaining: 2.23s\n",
            "51:\tlearn: 0.3339143\ttotal: 2.37s\tremaining: 2.19s\n",
            "52:\tlearn: 0.3338220\ttotal: 2.42s\tremaining: 2.15s\n",
            "53:\tlearn: 0.3337122\ttotal: 2.46s\tremaining: 2.1s\n",
            "54:\tlearn: 0.3336437\ttotal: 2.51s\tremaining: 2.05s\n",
            "55:\tlearn: 0.3335597\ttotal: 2.55s\tremaining: 2s\n",
            "56:\tlearn: 0.3334732\ttotal: 2.59s\tremaining: 1.96s\n",
            "57:\tlearn: 0.3334064\ttotal: 2.63s\tremaining: 1.91s\n",
            "58:\tlearn: 0.3333474\ttotal: 2.7s\tremaining: 1.87s\n",
            "59:\tlearn: 0.3333052\ttotal: 2.74s\tremaining: 1.83s\n",
            "60:\tlearn: 0.3332321\ttotal: 2.79s\tremaining: 1.78s\n",
            "61:\tlearn: 0.3331543\ttotal: 2.83s\tremaining: 1.73s\n",
            "62:\tlearn: 0.3330839\ttotal: 2.87s\tremaining: 1.69s\n",
            "63:\tlearn: 0.3330347\ttotal: 2.92s\tremaining: 1.64s\n",
            "64:\tlearn: 0.3329624\ttotal: 2.96s\tremaining: 1.6s\n",
            "65:\tlearn: 0.3329025\ttotal: 3.01s\tremaining: 1.55s\n",
            "66:\tlearn: 0.3328426\ttotal: 3.06s\tremaining: 1.51s\n",
            "67:\tlearn: 0.3327937\ttotal: 3.1s\tremaining: 1.46s\n",
            "68:\tlearn: 0.3327145\ttotal: 3.15s\tremaining: 1.42s\n",
            "69:\tlearn: 0.3326642\ttotal: 3.21s\tremaining: 1.37s\n",
            "70:\tlearn: 0.3326045\ttotal: 3.25s\tremaining: 1.33s\n",
            "71:\tlearn: 0.3325580\ttotal: 3.3s\tremaining: 1.28s\n",
            "72:\tlearn: 0.3324968\ttotal: 3.34s\tremaining: 1.24s\n",
            "73:\tlearn: 0.3324386\ttotal: 3.39s\tremaining: 1.19s\n",
            "74:\tlearn: 0.3323732\ttotal: 3.44s\tremaining: 1.15s\n",
            "75:\tlearn: 0.3323257\ttotal: 3.49s\tremaining: 1.1s\n",
            "76:\tlearn: 0.3322610\ttotal: 3.54s\tremaining: 1.06s\n",
            "77:\tlearn: 0.3321840\ttotal: 3.58s\tremaining: 1.01s\n",
            "78:\tlearn: 0.3321261\ttotal: 3.63s\tremaining: 964ms\n",
            "79:\tlearn: 0.3320681\ttotal: 3.69s\tremaining: 922ms\n",
            "80:\tlearn: 0.3320404\ttotal: 3.74s\tremaining: 877ms\n",
            "81:\tlearn: 0.3319732\ttotal: 3.78s\tremaining: 830ms\n",
            "82:\tlearn: 0.3319327\ttotal: 3.82s\tremaining: 783ms\n",
            "83:\tlearn: 0.3318779\ttotal: 3.86s\tremaining: 736ms\n",
            "84:\tlearn: 0.3318157\ttotal: 3.91s\tremaining: 689ms\n",
            "85:\tlearn: 0.3317547\ttotal: 3.95s\tremaining: 643ms\n",
            "86:\tlearn: 0.3317205\ttotal: 3.99s\tremaining: 596ms\n",
            "87:\tlearn: 0.3316716\ttotal: 4.03s\tremaining: 550ms\n",
            "88:\tlearn: 0.3316299\ttotal: 4.07s\tremaining: 503ms\n",
            "89:\tlearn: 0.3315782\ttotal: 4.11s\tremaining: 457ms\n",
            "90:\tlearn: 0.3315293\ttotal: 4.15s\tremaining: 411ms\n",
            "91:\tlearn: 0.3314915\ttotal: 4.2s\tremaining: 365ms\n",
            "92:\tlearn: 0.3314442\ttotal: 4.24s\tremaining: 319ms\n",
            "93:\tlearn: 0.3313944\ttotal: 4.28s\tremaining: 273ms\n",
            "94:\tlearn: 0.3313491\ttotal: 4.33s\tremaining: 228ms\n",
            "95:\tlearn: 0.3313002\ttotal: 4.37s\tremaining: 182ms\n",
            "96:\tlearn: 0.3312683\ttotal: 4.41s\tremaining: 136ms\n",
            "97:\tlearn: 0.3312334\ttotal: 4.45s\tremaining: 90.9ms\n",
            "98:\tlearn: 0.3311884\ttotal: 4.5s\tremaining: 45.4ms\n",
            "99:\tlearn: 0.3311214\ttotal: 4.55s\tremaining: 0us\n",
            "          Logistic Regression  Decision Tree       SVM  AdaBoost    XBoost  \\\n",
            "Acurácia             0.844766       0.848319  0.813815  0.849034  0.851328   \n",
            "Precisão             0.522283       0.580389  0.419521  0.555310  0.582415   \n",
            "Recall               0.175456       0.135419  0.472874  0.211120  0.200017   \n",
            "F1-Score             0.262671       0.219600  0.444603  0.305930  0.297771   \n",
            "ROC AUC              0.795822       0.796623  0.800047  0.817854  0.825203   \n",
            "\n",
            "          CatBoost  \n",
            "Acurácia  0.851844  \n",
            "Precisão  0.587555  \n",
            "Recall    0.200942  \n",
            "F1-Score  0.299467  \n",
            "ROC AUC   0.825994  \n"
          ]
        }
      ]
    },
    {
      "cell_type": "code",
      "source": [
        "df_resultados = df_resultados.T\n",
        "df_resultados.plot(kind=\"bar\", figsize=(10, 6), colormap=\"viridis\")\n",
        "plt.title(\"Classification Model Performance\")\n",
        "plt.legend(bbox_to_anchor=(1.05, 1), loc='upper left')\n",
        "plt.xlabel(\"Algorithms\")\n",
        "plt.ylabel(\"Score\")\n",
        "plt.tight_layout()\n",
        "plt.show()"
      ],
      "metadata": {
        "colab": {
          "base_uri": "https://localhost:8080/",
          "height": 607
        },
        "id": "u7jGXRpVMY3e",
        "outputId": "d3869a0f-f10d-49fa-e60d-c0f15bde67c3"
      },
      "execution_count": null,
      "outputs": [
        {
          "output_type": "display_data",
          "data": {
            "text/plain": [
              "<Figure size 1000x600 with 1 Axes>"
            ],
            "image/png": "[encoded data removed]"
          },
          "metadata": {}
        }
      ]
    },
    {
      "cell_type": "markdown",
      "source": [
        "# Verificação Vieses\n"
      ],
      "metadata": {
        "id": "yoZMLhAVq2Y_"
      }
    },
    {
      "cell_type": "markdown",
      "source": [
        "## Metricas Fairness"
      ],
      "metadata": {
        "id": "ancHE7hoAXGw"
      }
    },
    {
      "cell_type": "code",
      "source": [
        "\n",
        "\n",
        "def fairness_report(y_test, y_pred, prot_attr, privileged_values=None, return_df=True):\n",
        "    report = {\n",
        "        prot_attr: {\n",
        "            'disparate_impact_ratio': disparate_impact_ratio(y_test, y_pred, prot_attr=prot_attr),\n",
        "            'equal_opportunity_difference': equal_opportunity_difference(y_test, y_pred, prot_attr=prot_attr),\n",
        "            'statistical_parity_difference': statistical_parity_difference(y_test, y_pred, prot_attr=prot_attr),\n",
        "            'average_odds_difference': average_odds_difference(y_test, y_pred, prot_attr=prot_attr),\n",
        "            'accuracy': accuracy_score(y_test, y_pred)\n",
        "        }\n",
        "    }\n",
        "\n",
        "    if return_df:\n",
        "        return pd.DataFrame(report)\n",
        "    else:\n",
        "        return report\n"
      ],
      "metadata": {
        "id": "4-scIohUNNYI"
      },
      "execution_count": null,
      "outputs": []
    },
    {
      "cell_type": "markdown",
      "source": [
        "## Sexo"
      ],
      "metadata": {
        "id": "oNzHWv9aVRSV"
      }
    },
    {
      "cell_type": "code",
      "source": [
        "dados_sexo = data.set_index('Sexo')"
      ],
      "metadata": {
        "id": "1BCXy-6fVRSY"
      },
      "execution_count": null,
      "outputs": []
    },
    {
      "cell_type": "code",
      "source": [
        "x = dados_sexo.drop(columns=['Diabetes'])\n",
        "y = dados_sexo['Diabetes']\n",
        "\n",
        "X_train, X_test, y_train, y_test = train_test_split(x, y, test_size=0.3, random_state=42)\n",
        "\n",
        "lr = LogisticRegression()\n",
        "\n",
        "lr.fit(X_train, y_train)\n",
        "\n",
        "y_pred = lr.predict(X_test)\n"
      ],
      "metadata": {
        "colab": {
          "base_uri": "https://localhost:8080/"
        },
        "outputId": "d0f9da59-7ca2-492a-bcd6-c2c082afb417",
        "id": "RfHkBo36VRSa"
      },
      "execution_count": null,
      "outputs": [
        {
          "output_type": "stream",
          "name": "stderr",
          "text": [
            "/usr/local/lib/python3.11/dist-packages/sklearn/linear_model/_logistic.py:465: ConvergenceWarning: lbfgs failed to converge (status=1):\n",
            "STOP: TOTAL NO. OF ITERATIONS REACHED LIMIT.\n",
            "\n",
            "Increase the number of iterations (max_iter) or scale the data as shown in:\n",
            "    https://scikit-learn.org/stable/modules/preprocessing.html\n",
            "Please also refer to the documentation for alternative solver options:\n",
            "    https://scikit-learn.org/stable/modules/linear_model.html#logistic-regression\n",
            "  n_iter_i = _check_optimize_result(\n"
          ]
        }
      ]
    },
    {
      "cell_type": "code",
      "source": [
        "report= fairness_report(y_test, y_pred, prot_attr='Sexo', privileged_values=[1])\n",
        "print(report)"
      ],
      "metadata": {
        "colab": {
          "base_uri": "https://localhost:8080/"
        },
        "outputId": "1b2d8d4a-87bc-42e1-b9e5-00550173a5d1",
        "id": "FKGU39vTVRSc"
      },
      "execution_count": null,
      "outputs": [
        {
          "output_type": "stream",
          "name": "stdout",
          "text": [
            "                                   Sexo\n",
            "disparate_impact_ratio         1.283018\n",
            "equal_opportunity_difference   0.060206\n",
            "statistical_parity_difference  0.012238\n",
            "average_odds_difference        0.033348\n",
            "accuracy                       0.844779\n"
          ]
        }
      ]
    },
    {
      "cell_type": "code",
      "source": [
        "x = dados_sexo.drop(columns=['Diabetes'])\n",
        "y = dados_sexo['Diabetes']\n",
        "\n",
        "X_train, X_test, y_train, y_test = train_test_split(x, y, test_size=0.3, random_state=42)\n",
        "\n",
        "dtree = DecisionTreeClassifier(criterion='gini', max_depth=5)\n",
        "\n",
        "dtree.fit(X_train, y_train)\n",
        "\n",
        "y_pred = dtree.predict(X_test)"
      ],
      "metadata": {
        "id": "pFBtLmu3VRSd"
      },
      "execution_count": null,
      "outputs": []
    },
    {
      "cell_type": "code",
      "source": [
        "report = fairness_report(y_test, y_pred, prot_attr='Sexo',  privileged_values=[1])\n",
        "print(report)"
      ],
      "metadata": {
        "colab": {
          "base_uri": "https://localhost:8080/"
        },
        "outputId": "2446225b-f3a3-42dd-e7d6-a8509a506b72",
        "id": "pdyuS_bOVRSe"
      },
      "execution_count": null,
      "outputs": [
        {
          "output_type": "stream",
          "name": "stdout",
          "text": [
            "                                   Sexo\n",
            "disparate_impact_ratio         1.070257\n",
            "equal_opportunity_difference   0.028855\n",
            "statistical_parity_difference  0.002485\n",
            "average_odds_difference        0.014587\n",
            "accuracy                       0.848319\n"
          ]
        }
      ]
    },
    {
      "cell_type": "code",
      "source": [
        "x = dados_sexo.drop(columns=['Diabetes'])\n",
        "y = dados_sexo['Diabetes']\n",
        "\n",
        "X_train, X_test, y_train, y_test = train_test_split(x, y, test_size=0.3, random_state=42)\n",
        "\n",
        "svm = SGDClassifier(loss=\"hinge\", random_state=42)\n",
        "\n",
        "svm.fit(X_train, y_train)\n",
        "\n",
        "y_pred = svm.predict(X_test)\n",
        "\n"
      ],
      "metadata": {
        "id": "0ENscPjHVRSf"
      },
      "execution_count": null,
      "outputs": []
    },
    {
      "cell_type": "code",
      "source": [
        "report = fairness_report(y_test, y_pred, prot_attr='Sexo', privileged_values=[1])\n",
        "print(report)"
      ],
      "metadata": {
        "colab": {
          "base_uri": "https://localhost:8080/"
        },
        "outputId": "7d8ea4e9-9341-4fd1-82a5-9bde8097a8bb",
        "id": "NbDxRHEuVRSf"
      },
      "execution_count": null,
      "outputs": [
        {
          "output_type": "stream",
          "name": "stdout",
          "text": [
            "                                   Sexo\n",
            "disparate_impact_ratio         1.212961\n",
            "equal_opportunity_difference   0.005850\n",
            "statistical_parity_difference  0.001495\n",
            "average_odds_difference        0.003575\n"
          ]
        }
      ]
    },
    {
      "cell_type": "code",
      "source": [
        "x = dados_sexo.drop(columns=['Diabetes'])\n",
        "y = dados_sexo['Diabetes']\n",
        "\n",
        "X_train, X_test, y_train, y_test = train_test_split(x, y, test_size=0.3, random_state=42)\n",
        "\n",
        "cb = CatBoostClassifier(\n",
        "    iterations=100,\n",
        "    learning_rate=0.1,\n",
        "    depth=6,\n",
        "    loss_function='Logloss',\n",
        "    random_seed=42\n",
        ")\n",
        "\n",
        "cb.fit(X_train, y_train)\n",
        "\n",
        "y_pred = cb.predict(X_test)\n",
        "\n"
      ],
      "metadata": {
        "colab": {
          "base_uri": "https://localhost:8080/"
        },
        "outputId": "26c3d8c8-4dac-4e64-fbd5-9200217ed7e9",
        "id": "FywYydH5VRSg"
      },
      "execution_count": null,
      "outputs": [
        {
          "output_type": "stream",
          "name": "stdout",
          "text": [
            "0:\tlearn: 0.6088794\ttotal: 114ms\tremaining: 11.3s\n",
            "1:\tlearn: 0.5426735\ttotal: 226ms\tremaining: 11.1s\n",
            "2:\tlearn: 0.4961853\ttotal: 264ms\tremaining: 8.55s\n",
            "3:\tlearn: 0.4624436\ttotal: 305ms\tremaining: 7.31s\n",
            "4:\tlearn: 0.4362346\ttotal: 349ms\tremaining: 6.63s\n",
            "5:\tlearn: 0.4173585\ttotal: 388ms\tremaining: 6.08s\n",
            "6:\tlearn: 0.4021487\ttotal: 425ms\tremaining: 5.64s\n",
            "7:\tlearn: 0.3902130\ttotal: 465ms\tremaining: 5.35s\n",
            "8:\tlearn: 0.3805916\ttotal: 506ms\tremaining: 5.12s\n",
            "9:\tlearn: 0.3728965\ttotal: 555ms\tremaining: 5s\n",
            "10:\tlearn: 0.3667742\ttotal: 598ms\tremaining: 4.84s\n",
            "11:\tlearn: 0.3615315\ttotal: 643ms\tremaining: 4.72s\n",
            "12:\tlearn: 0.3575930\ttotal: 684ms\tremaining: 4.58s\n",
            "13:\tlearn: 0.3548141\ttotal: 725ms\tremaining: 4.46s\n",
            "14:\tlearn: 0.3521576\ttotal: 769ms\tremaining: 4.36s\n",
            "15:\tlearn: 0.3500032\ttotal: 808ms\tremaining: 4.24s\n",
            "16:\tlearn: 0.3481772\ttotal: 858ms\tremaining: 4.19s\n",
            "17:\tlearn: 0.3468651\ttotal: 899ms\tremaining: 4.09s\n",
            "18:\tlearn: 0.3452748\ttotal: 939ms\tremaining: 4s\n",
            "19:\tlearn: 0.3437245\ttotal: 987ms\tremaining: 3.95s\n",
            "20:\tlearn: 0.3426665\ttotal: 1.03s\tremaining: 3.87s\n",
            "21:\tlearn: 0.3417059\ttotal: 1.08s\tremaining: 3.82s\n",
            "22:\tlearn: 0.3410834\ttotal: 1.12s\tremaining: 3.76s\n",
            "23:\tlearn: 0.3404277\ttotal: 1.16s\tremaining: 3.69s\n",
            "24:\tlearn: 0.3397712\ttotal: 1.22s\tremaining: 3.65s\n",
            "25:\tlearn: 0.3394327\ttotal: 1.3s\tremaining: 3.71s\n",
            "26:\tlearn: 0.3391110\ttotal: 1.36s\tremaining: 3.69s\n",
            "27:\tlearn: 0.3388091\ttotal: 1.41s\tremaining: 3.62s\n",
            "28:\tlearn: 0.3384951\ttotal: 1.45s\tremaining: 3.56s\n",
            "29:\tlearn: 0.3382135\ttotal: 1.49s\tremaining: 3.48s\n",
            "30:\tlearn: 0.3379398\ttotal: 1.53s\tremaining: 3.41s\n",
            "31:\tlearn: 0.3376861\ttotal: 1.57s\tremaining: 3.34s\n",
            "32:\tlearn: 0.3373699\ttotal: 1.61s\tremaining: 3.28s\n",
            "33:\tlearn: 0.3371607\ttotal: 1.66s\tremaining: 3.21s\n",
            "34:\tlearn: 0.3370225\ttotal: 1.69s\tremaining: 3.15s\n",
            "35:\tlearn: 0.3368433\ttotal: 1.73s\tremaining: 3.08s\n",
            "36:\tlearn: 0.3366470\ttotal: 1.77s\tremaining: 3.02s\n",
            "37:\tlearn: 0.3364898\ttotal: 1.82s\tremaining: 2.97s\n",
            "38:\tlearn: 0.3362875\ttotal: 1.87s\tremaining: 2.92s\n",
            "39:\tlearn: 0.3361320\ttotal: 1.91s\tremaining: 2.86s\n",
            "40:\tlearn: 0.3360031\ttotal: 1.95s\tremaining: 2.81s\n",
            "41:\tlearn: 0.3358546\ttotal: 1.99s\tremaining: 2.75s\n",
            "42:\tlearn: 0.3357366\ttotal: 2.04s\tremaining: 2.7s\n",
            "43:\tlearn: 0.3356284\ttotal: 2.08s\tremaining: 2.65s\n",
            "44:\tlearn: 0.3355057\ttotal: 2.13s\tremaining: 2.6s\n",
            "45:\tlearn: 0.3354139\ttotal: 2.17s\tremaining: 2.54s\n",
            "46:\tlearn: 0.3353188\ttotal: 2.21s\tremaining: 2.49s\n",
            "47:\tlearn: 0.3351975\ttotal: 2.25s\tremaining: 2.43s\n",
            "48:\tlearn: 0.3350863\ttotal: 2.31s\tremaining: 2.4s\n",
            "49:\tlearn: 0.3349968\ttotal: 2.35s\tremaining: 2.35s\n",
            "50:\tlearn: 0.3349049\ttotal: 2.39s\tremaining: 2.29s\n",
            "51:\tlearn: 0.3348314\ttotal: 2.43s\tremaining: 2.24s\n",
            "52:\tlearn: 0.3347303\ttotal: 2.47s\tremaining: 2.19s\n",
            "53:\tlearn: 0.3346627\ttotal: 2.51s\tremaining: 2.14s\n",
            "54:\tlearn: 0.3345840\ttotal: 2.55s\tremaining: 2.09s\n",
            "55:\tlearn: 0.3345069\ttotal: 2.59s\tremaining: 2.04s\n",
            "56:\tlearn: 0.3344608\ttotal: 2.63s\tremaining: 1.99s\n",
            "57:\tlearn: 0.3343875\ttotal: 2.68s\tremaining: 1.94s\n",
            "58:\tlearn: 0.3343341\ttotal: 2.72s\tremaining: 1.89s\n",
            "59:\tlearn: 0.3342836\ttotal: 2.76s\tremaining: 1.84s\n",
            "60:\tlearn: 0.3342274\ttotal: 2.8s\tremaining: 1.79s\n",
            "61:\tlearn: 0.3341483\ttotal: 2.85s\tremaining: 1.74s\n",
            "62:\tlearn: 0.3340720\ttotal: 2.88s\tremaining: 1.69s\n",
            "63:\tlearn: 0.3340137\ttotal: 2.93s\tremaining: 1.65s\n",
            "64:\tlearn: 0.3339580\ttotal: 2.97s\tremaining: 1.6s\n",
            "65:\tlearn: 0.3339164\ttotal: 3.01s\tremaining: 1.55s\n",
            "66:\tlearn: 0.3338616\ttotal: 3.05s\tremaining: 1.5s\n",
            "67:\tlearn: 0.3338233\ttotal: 3.09s\tremaining: 1.46s\n",
            "68:\tlearn: 0.3337760\ttotal: 3.13s\tremaining: 1.41s\n",
            "69:\tlearn: 0.3337323\ttotal: 3.17s\tremaining: 1.36s\n",
            "70:\tlearn: 0.3336867\ttotal: 3.22s\tremaining: 1.31s\n",
            "71:\tlearn: 0.3336307\ttotal: 3.25s\tremaining: 1.26s\n",
            "72:\tlearn: 0.3335627\ttotal: 3.3s\tremaining: 1.22s\n",
            "73:\tlearn: 0.3334992\ttotal: 3.35s\tremaining: 1.18s\n",
            "74:\tlearn: 0.3334532\ttotal: 3.39s\tremaining: 1.13s\n",
            "75:\tlearn: 0.3333882\ttotal: 3.43s\tremaining: 1.08s\n",
            "76:\tlearn: 0.3333351\ttotal: 3.47s\tremaining: 1.04s\n",
            "77:\tlearn: 0.3332588\ttotal: 3.51s\tremaining: 990ms\n",
            "78:\tlearn: 0.3332018\ttotal: 3.55s\tremaining: 944ms\n",
            "79:\tlearn: 0.3331364\ttotal: 3.6s\tremaining: 900ms\n",
            "80:\tlearn: 0.3330860\ttotal: 3.64s\tremaining: 853ms\n",
            "81:\tlearn: 0.3330446\ttotal: 3.68s\tremaining: 808ms\n",
            "82:\tlearn: 0.3329925\ttotal: 3.72s\tremaining: 763ms\n",
            "83:\tlearn: 0.3329549\ttotal: 3.77s\tremaining: 717ms\n",
            "84:\tlearn: 0.3329238\ttotal: 3.81s\tremaining: 672ms\n",
            "85:\tlearn: 0.3328659\ttotal: 3.85s\tremaining: 627ms\n",
            "86:\tlearn: 0.3328234\ttotal: 3.89s\tremaining: 582ms\n",
            "87:\tlearn: 0.3327649\ttotal: 3.94s\tremaining: 537ms\n",
            "88:\tlearn: 0.3327127\ttotal: 3.99s\tremaining: 493ms\n",
            "89:\tlearn: 0.3326730\ttotal: 4.04s\tremaining: 449ms\n",
            "90:\tlearn: 0.3326219\ttotal: 4.1s\tremaining: 405ms\n",
            "91:\tlearn: 0.3325731\ttotal: 4.14s\tremaining: 360ms\n",
            "92:\tlearn: 0.3325284\ttotal: 4.18s\tremaining: 315ms\n",
            "93:\tlearn: 0.3324752\ttotal: 4.23s\tremaining: 270ms\n",
            "94:\tlearn: 0.3324368\ttotal: 4.27s\tremaining: 225ms\n",
            "95:\tlearn: 0.3323763\ttotal: 4.31s\tremaining: 180ms\n",
            "96:\tlearn: 0.3323494\ttotal: 4.37s\tremaining: 135ms\n",
            "97:\tlearn: 0.3323252\ttotal: 4.41s\tremaining: 90ms\n",
            "98:\tlearn: 0.3322689\ttotal: 4.46s\tremaining: 45ms\n",
            "99:\tlearn: 0.3322183\ttotal: 4.5s\tremaining: 0us\n"
          ]
        }
      ]
    },
    {
      "cell_type": "code",
      "source": [
        "report_lg = fairness_report(y_test, y_pred, prot_attr='Sexo',  privileged_values=[1])\n",
        "print(report_lg)"
      ],
      "metadata": {
        "colab": {
          "base_uri": "https://localhost:8080/"
        },
        "outputId": "bbe5427d-1930-4efc-b0dc-ecd087232e5d",
        "id": "WKVamdOWVRSh"
      },
      "execution_count": null,
      "outputs": [
        {
          "output_type": "stream",
          "name": "stdout",
          "text": [
            "                                   Sexo\n",
            "disparate_impact_ratio         1.217606\n",
            "equal_opportunity_difference   0.056242\n",
            "statistical_parity_difference  0.010569\n",
            "average_odds_difference        0.031217\n"
          ]
        }
      ]
    },
    {
      "cell_type": "code",
      "source": [
        "x = dados_sexo.drop(columns=['Diabetes'])\n",
        "y = dados_sexo['Diabetes']\n",
        "\n",
        "X_train, X_test, y_train, y_test = train_test_split(x, y, test_size=0.3, random_state=42)\n",
        "\n",
        "ada = AdaBoostClassifier(\n",
        "    DecisionTreeClassifier(max_depth=1),\n",
        "    n_estimators=50,\n",
        "    learning_rate=1.0,\n",
        "    random_state=42\n",
        ")\n",
        "\n",
        "ada.fit(X_train, y_train)\n",
        "\n",
        "y_pred = ada.predict(X_test)"
      ],
      "metadata": {
        "id": "UQ2HAU4nVRSh"
      },
      "execution_count": null,
      "outputs": []
    },
    {
      "cell_type": "code",
      "source": [
        "report = fairness_report(y_test, y_pred, prot_attr='Sexo',  privileged_values=[1])\n",
        "print(report)"
      ],
      "metadata": {
        "colab": {
          "base_uri": "https://localhost:8080/"
        },
        "outputId": "5e61a67e-7723-4afc-c9e7-4fe146a7d936",
        "id": "dre3qddQVRSi"
      },
      "execution_count": null,
      "outputs": [
        {
          "output_type": "stream",
          "name": "stdout",
          "text": [
            "                                   Sexo\n",
            "disparate_impact_ratio         1.166129\n",
            "equal_opportunity_difference   0.048535\n",
            "statistical_parity_difference  0.009325\n",
            "average_odds_difference        0.027449\n"
          ]
        }
      ]
    },
    {
      "cell_type": "code",
      "source": [
        "x = dados_sexo.drop(columns=['Diabetes'])\n",
        "y = dados_sexo['Diabetes']\n",
        "\n",
        "\n",
        "X_train, X_test, y_train, y_test = train_test_split(x, y, test_size=0.3, random_state=42)\n",
        "\n",
        "\n",
        "xgb_model = xgb.XGBClassifier(\n",
        "    n_estimators=100,\n",
        "    learning_rate=0.1,\n",
        "    max_depth=3,\n",
        "    random_state=42\n",
        ")\n",
        "\n",
        "xgb_model.fit(X_train, y_train)\n",
        "\n",
        "y_pred = xgb_model.predict(X_test)\n"
      ],
      "metadata": {
        "id": "kEejhcB_VRSi"
      },
      "execution_count": null,
      "outputs": []
    },
    {
      "cell_type": "code",
      "source": [
        "report = fairness_report(y_test, y_pred, prot_attr='Sexo',  privileged_values=[1])\n",
        "print(report)"
      ],
      "metadata": {
        "colab": {
          "base_uri": "https://localhost:8080/"
        },
        "outputId": "dc9509da-8cb7-40a4-8a21-fff35c48fad8",
        "id": "uU1ztdCWVRSj"
      },
      "execution_count": null,
      "outputs": [
        {
          "output_type": "stream",
          "name": "stdout",
          "text": [
            "                                   Sexo\n",
            "disparate_impact_ratio         1.249160\n",
            "equal_opportunity_difference   0.056694\n",
            "statistical_parity_difference  0.011588\n",
            "average_odds_difference        0.031955\n"
          ]
        }
      ]
    },
    {
      "cell_type": "markdown",
      "source": [
        "## Etnia"
      ],
      "metadata": {
        "id": "souJkuq6YAyl"
      }
    },
    {
      "cell_type": "markdown",
      "source": [
        "Binarizando Etnia"
      ],
      "metadata": {
        "id": "um0P3_u-YAyo"
      }
    },
    {
      "cell_type": "code",
      "source": [
        "data['Etnia'] = data['Etnia'].map({1: 1, 2: 0, 3: 0, 4: 0, 5: 0})"
      ],
      "metadata": {
        "id": "UyWmOiUUYAyp"
      },
      "execution_count": null,
      "outputs": []
    },
    {
      "cell_type": "code",
      "source": [
        "data.value_counts('Etnia')"
      ],
      "metadata": {
        "colab": {
          "base_uri": "https://localhost:8080/",
          "height": 178
        },
        "outputId": "81e5d5fc-6cd9-4464-ad4b-3715e9ecbc57",
        "id": "dMBnhMCuYAyp"
      },
      "execution_count": null,
      "outputs": [
        {
          "output_type": "execute_result",
          "data": {
            "text/plain": [
              "Etnia\n",
              "1    201886\n",
              "0     49581\n",
              "Name: count, dtype: int64"
            ],
            "text/html": [
              "<div>\n",
              "<style scoped>\n",
              "    .dataframe tbody tr th:only-of-type {\n",
              "        vertical-align: middle;\n",
              "    }\n",
              "\n",
              "    .dataframe tbody tr th {\n",
              "        vertical-align: top;\n",
              "    }\n",
              "\n",
              "    .dataframe thead th {\n",
              "        text-align: right;\n",
              "    }\n",
              "</style>\n",
              "<table border=\"1\" class=\"dataframe\">\n",
              "  <thead>\n",
              "    <tr style=\"text-align: right;\">\n",
              "      <th></th>\n",
              "      <th>count</th>\n",
              "    </tr>\n",
              "    <tr>\n",
              "      <th>Etnia</th>\n",
              "      <th></th>\n",
              "    </tr>\n",
              "  </thead>\n",
              "  <tbody>\n",
              "    <tr>\n",
              "      <th>1</th>\n",
              "      <td>201886</td>\n",
              "    </tr>\n",
              "    <tr>\n",
              "      <th>0</th>\n",
              "      <td>49581</td>\n",
              "    </tr>\n",
              "  </tbody>\n",
              "</table>\n",
              "</div><br><label><b>dtype:</b> int64</label>"
            ]
          },
          "metadata": {},
          "execution_count": 20
        }
      ]
    },
    {
      "cell_type": "markdown",
      "source": [
        "Etnia binarizada - brancos 1 / não brancos 0"
      ],
      "metadata": {
        "id": "5g9cZfG8YAyq"
      }
    },
    {
      "cell_type": "code",
      "source": [
        "data_etnia = data.set_index('Etnia')"
      ],
      "metadata": {
        "id": "jgZBUXEQYAyr"
      },
      "execution_count": null,
      "outputs": []
    },
    {
      "cell_type": "code",
      "source": [
        "x = data_etnia.drop(columns=['Diabetes'])\n",
        "y = data_etnia['Diabetes']\n",
        "\n",
        "X_train, X_test, y_train, y_test = train_test_split(x, y, test_size=0.3, random_state=42)\n",
        "\n",
        "lr = LogisticRegression()\n",
        "\n",
        "lr.fit(X_train, y_train)\n",
        "\n",
        "y_pred = lr.predict(X_test)\n"
      ],
      "metadata": {
        "colab": {
          "base_uri": "https://localhost:8080/"
        },
        "outputId": "8de8bb54-28e1-4bdd-b5f7-4eb4a9cf0723",
        "id": "oXwJo9-yYAyr"
      },
      "execution_count": null,
      "outputs": [
        {
          "output_type": "stream",
          "name": "stderr",
          "text": [
            "/usr/local/lib/python3.11/dist-packages/sklearn/linear_model/_logistic.py:465: ConvergenceWarning: lbfgs failed to converge (status=1):\n",
            "STOP: TOTAL NO. OF ITERATIONS REACHED LIMIT.\n",
            "\n",
            "Increase the number of iterations (max_iter) or scale the data as shown in:\n",
            "    https://scikit-learn.org/stable/modules/preprocessing.html\n",
            "Please also refer to the documentation for alternative solver options:\n",
            "    https://scikit-learn.org/stable/modules/linear_model.html#logistic-regression\n",
            "  n_iter_i = _check_optimize_result(\n"
          ]
        }
      ]
    },
    {
      "cell_type": "code",
      "source": [
        "report= fairness_report(y_test, y_pred, prot_attr='Etnia', privileged_values=[1])\n",
        "print(report)"
      ],
      "metadata": {
        "colab": {
          "base_uri": "https://localhost:8080/"
        },
        "outputId": "61d0a592-af19-4c56-d82e-e4cb2b9876c4",
        "id": "aMOgS5KVYAys"
      },
      "execution_count": null,
      "outputs": [
        {
          "output_type": "stream",
          "name": "stdout",
          "text": [
            "                                  Etnia\n",
            "disparate_impact_ratio         1.780254\n",
            "equal_opportunity_difference   0.047832\n",
            "statistical_parity_difference  0.034151\n",
            "average_odds_difference        0.032972\n",
            "accuracy                       0.844607\n"
          ]
        }
      ]
    },
    {
      "cell_type": "code",
      "source": [
        "x = data_etnia.drop(columns=['Diabetes'])\n",
        "y = data_etnia['Diabetes']\n",
        "\n",
        "X_train, X_test, y_train, y_test = train_test_split(x, y, test_size=0.3, random_state=42)\n",
        "\n",
        "dtree = DecisionTreeClassifier(criterion='gini', max_depth=5)\n",
        "\n",
        "dtree.fit(X_train, y_train)\n",
        "\n",
        "y_pred = dtree.predict(X_test)"
      ],
      "metadata": {
        "id": "uEcCKSYdYAys"
      },
      "execution_count": null,
      "outputs": []
    },
    {
      "cell_type": "code",
      "source": [
        "report = fairness_report(y_test, y_pred, prot_attr='Etnia',  privileged_values=[1])\n",
        "print(report)"
      ],
      "metadata": {
        "colab": {
          "base_uri": "https://localhost:8080/"
        },
        "outputId": "829a7399-05c3-42db-8352-3a6334ce1fd2",
        "id": "iLWGu6vVYAys"
      },
      "execution_count": null,
      "outputs": [
        {
          "output_type": "stream",
          "name": "stdout",
          "text": [
            "                                  Etnia\n",
            "disparate_impact_ratio         1.741552\n",
            "equal_opportunity_difference   0.032857\n",
            "statistical_parity_difference  0.023789\n",
            "average_odds_difference        0.021832\n",
            "accuracy                       0.848319\n"
          ]
        }
      ]
    },
    {
      "cell_type": "code",
      "source": [
        "x = data_etnia.drop(columns=['Diabetes'])\n",
        "y = data_etnia['Diabetes']\n",
        "\n",
        "X_train, X_test, y_train, y_test = train_test_split(x, y, test_size=0.3, random_state=42)\n",
        "\n",
        "svm = SGDClassifier(loss=\"hinge\", random_state=42)\n",
        "\n",
        "svm.fit(X_train, y_train)\n",
        "\n",
        "y_pred = svm.predict(X_test)\n",
        "\n"
      ],
      "metadata": {
        "id": "ldW6i23rYAyt"
      },
      "execution_count": null,
      "outputs": []
    },
    {
      "cell_type": "code",
      "source": [
        "report = fairness_report(y_test, y_pred, prot_attr='Etnia', privileged_values=[1])\n",
        "print(report)"
      ],
      "metadata": {
        "colab": {
          "base_uri": "https://localhost:8080/"
        },
        "outputId": "6e3d8823-63cb-463e-f57d-5237c9dafa0a",
        "id": "vU3JrlLcYAyt"
      },
      "execution_count": null,
      "outputs": [
        {
          "output_type": "stream",
          "name": "stdout",
          "text": [
            "                                  Etnia\n",
            "disparate_impact_ratio         1.191053\n",
            "equal_opportunity_difference   0.001583\n",
            "statistical_parity_difference  0.044906\n",
            "average_odds_difference        0.010031\n"
          ]
        }
      ]
    },
    {
      "cell_type": "code",
      "source": [
        "x = data_etnia.drop(columns=['Diabetes'])\n",
        "y = data_etnia['Diabetes']\n",
        "\n",
        "X_train, X_test, y_train, y_test = train_test_split(x, y, test_size=0.3, random_state=42)\n",
        "\n",
        "cb = CatBoostClassifier(\n",
        "    iterations=100,\n",
        "    learning_rate=0.1,\n",
        "    depth=6,\n",
        "    loss_function='Logloss',\n",
        "    random_seed=42\n",
        ")\n",
        "\n",
        "cb.fit(X_train, y_train)\n",
        "\n",
        "y_pred = cb.predict(X_test)\n",
        "\n"
      ],
      "metadata": {
        "colab": {
          "base_uri": "https://localhost:8080/"
        },
        "id": "EeeIIgZgYAyu",
        "outputId": "e94d2d90-917b-4ed6-b002-627fbca2fe74"
      },
      "execution_count": null,
      "outputs": [
        {
          "output_type": "stream",
          "name": "stdout",
          "text": [
            "0:\tlearn: 0.6059758\ttotal: 50.6ms\tremaining: 5.01s\n",
            "1:\tlearn: 0.5434623\ttotal: 90.8ms\tremaining: 4.45s\n",
            "2:\tlearn: 0.4977795\ttotal: 132ms\tremaining: 4.27s\n",
            "3:\tlearn: 0.4621199\ttotal: 172ms\tremaining: 4.13s\n",
            "4:\tlearn: 0.4361487\ttotal: 253ms\tremaining: 4.8s\n",
            "5:\tlearn: 0.4190319\ttotal: 331ms\tremaining: 5.18s\n",
            "6:\tlearn: 0.4025623\ttotal: 409ms\tremaining: 5.43s\n",
            "7:\tlearn: 0.3902236\ttotal: 526ms\tremaining: 6.05s\n",
            "8:\tlearn: 0.3810927\ttotal: 631ms\tremaining: 6.38s\n",
            "9:\tlearn: 0.3732042\ttotal: 753ms\tremaining: 6.78s\n",
            "10:\tlearn: 0.3675471\ttotal: 872ms\tremaining: 7.06s\n",
            "11:\tlearn: 0.3623911\ttotal: 989ms\tremaining: 7.25s\n",
            "12:\tlearn: 0.3586284\ttotal: 1.1s\tremaining: 7.36s\n",
            "13:\tlearn: 0.3553437\ttotal: 1.18s\tremaining: 7.23s\n",
            "14:\tlearn: 0.3528321\ttotal: 1.28s\tremaining: 7.27s\n",
            "15:\tlearn: 0.3508839\ttotal: 1.4s\tremaining: 7.37s\n",
            "16:\tlearn: 0.3489983\ttotal: 1.52s\tremaining: 7.41s\n",
            "17:\tlearn: 0.3474058\ttotal: 1.58s\tremaining: 7.22s\n",
            "18:\tlearn: 0.3460490\ttotal: 1.7s\tremaining: 7.26s\n",
            "19:\tlearn: 0.3446847\ttotal: 1.83s\tremaining: 7.32s\n",
            "20:\tlearn: 0.3439019\ttotal: 1.95s\tremaining: 7.34s\n",
            "21:\tlearn: 0.3430892\ttotal: 2.07s\tremaining: 7.35s\n",
            "22:\tlearn: 0.3422563\ttotal: 2.19s\tremaining: 7.32s\n",
            "23:\tlearn: 0.3417727\ttotal: 2.28s\tremaining: 7.23s\n",
            "24:\tlearn: 0.3412682\ttotal: 2.38s\tremaining: 7.13s\n",
            "25:\tlearn: 0.3408505\ttotal: 2.5s\tremaining: 7.11s\n",
            "26:\tlearn: 0.3403426\ttotal: 2.62s\tremaining: 7.07s\n",
            "27:\tlearn: 0.3399123\ttotal: 2.69s\tremaining: 6.93s\n",
            "28:\tlearn: 0.3396396\ttotal: 2.83s\tremaining: 6.92s\n",
            "29:\tlearn: 0.3392476\ttotal: 2.94s\tremaining: 6.86s\n",
            "30:\tlearn: 0.3388768\ttotal: 3.04s\tremaining: 6.76s\n",
            "31:\tlearn: 0.3386659\ttotal: 3.11s\tremaining: 6.61s\n",
            "32:\tlearn: 0.3384518\ttotal: 3.22s\tremaining: 6.54s\n",
            "33:\tlearn: 0.3382583\ttotal: 3.28s\tremaining: 6.36s\n",
            "34:\tlearn: 0.3380428\ttotal: 3.35s\tremaining: 6.22s\n",
            "35:\tlearn: 0.3379264\ttotal: 3.4s\tremaining: 6.04s\n",
            "36:\tlearn: 0.3377933\ttotal: 3.45s\tremaining: 5.87s\n",
            "37:\tlearn: 0.3375797\ttotal: 3.51s\tremaining: 5.72s\n",
            "38:\tlearn: 0.3373428\ttotal: 3.56s\tremaining: 5.56s\n",
            "39:\tlearn: 0.3371744\ttotal: 3.6s\tremaining: 5.41s\n",
            "40:\tlearn: 0.3370351\ttotal: 3.65s\tremaining: 5.25s\n",
            "41:\tlearn: 0.3369266\ttotal: 3.7s\tremaining: 5.1s\n",
            "42:\tlearn: 0.3368201\ttotal: 3.76s\tremaining: 4.98s\n",
            "43:\tlearn: 0.3366810\ttotal: 3.81s\tremaining: 4.85s\n",
            "44:\tlearn: 0.3365433\ttotal: 3.87s\tremaining: 4.72s\n",
            "45:\tlearn: 0.3364073\ttotal: 3.92s\tremaining: 4.6s\n",
            "46:\tlearn: 0.3363015\ttotal: 3.97s\tremaining: 4.47s\n",
            "47:\tlearn: 0.3361452\ttotal: 4.01s\tremaining: 4.35s\n",
            "48:\tlearn: 0.3360353\ttotal: 4.05s\tremaining: 4.22s\n",
            "49:\tlearn: 0.3359766\ttotal: 4.1s\tremaining: 4.1s\n",
            "50:\tlearn: 0.3358929\ttotal: 4.13s\tremaining: 3.97s\n",
            "51:\tlearn: 0.3357928\ttotal: 4.18s\tremaining: 3.86s\n",
            "52:\tlearn: 0.3356936\ttotal: 4.23s\tremaining: 3.75s\n",
            "53:\tlearn: 0.3356275\ttotal: 4.28s\tremaining: 3.65s\n",
            "54:\tlearn: 0.3355557\ttotal: 4.33s\tremaining: 3.54s\n",
            "55:\tlearn: 0.3354782\ttotal: 4.37s\tremaining: 3.43s\n",
            "56:\tlearn: 0.3353922\ttotal: 4.41s\tremaining: 3.33s\n",
            "57:\tlearn: 0.3353185\ttotal: 4.45s\tremaining: 3.22s\n",
            "58:\tlearn: 0.3352474\ttotal: 4.51s\tremaining: 3.13s\n",
            "59:\tlearn: 0.3351528\ttotal: 4.55s\tremaining: 3.03s\n",
            "60:\tlearn: 0.3350908\ttotal: 4.59s\tremaining: 2.94s\n",
            "61:\tlearn: 0.3350265\ttotal: 4.63s\tremaining: 2.84s\n",
            "62:\tlearn: 0.3349742\ttotal: 4.67s\tremaining: 2.74s\n",
            "63:\tlearn: 0.3348809\ttotal: 4.71s\tremaining: 2.65s\n",
            "64:\tlearn: 0.3348264\ttotal: 4.76s\tremaining: 2.56s\n",
            "65:\tlearn: 0.3347391\ttotal: 4.8s\tremaining: 2.47s\n",
            "66:\tlearn: 0.3346882\ttotal: 4.84s\tremaining: 2.38s\n",
            "67:\tlearn: 0.3346135\ttotal: 4.89s\tremaining: 2.3s\n",
            "68:\tlearn: 0.3345837\ttotal: 4.92s\tremaining: 2.21s\n",
            "69:\tlearn: 0.3345152\ttotal: 4.96s\tremaining: 2.13s\n",
            "70:\tlearn: 0.3344573\ttotal: 5s\tremaining: 2.04s\n",
            "71:\tlearn: 0.3344063\ttotal: 5.04s\tremaining: 1.96s\n",
            "72:\tlearn: 0.3343589\ttotal: 5.09s\tremaining: 1.88s\n",
            "73:\tlearn: 0.3343084\ttotal: 5.13s\tremaining: 1.8s\n",
            "74:\tlearn: 0.3342582\ttotal: 5.17s\tremaining: 1.72s\n",
            "75:\tlearn: 0.3342179\ttotal: 5.21s\tremaining: 1.65s\n",
            "76:\tlearn: 0.3341593\ttotal: 5.26s\tremaining: 1.57s\n",
            "77:\tlearn: 0.3340786\ttotal: 5.31s\tremaining: 1.5s\n",
            "78:\tlearn: 0.3340213\ttotal: 5.35s\tremaining: 1.42s\n",
            "79:\tlearn: 0.3339522\ttotal: 5.4s\tremaining: 1.35s\n",
            "80:\tlearn: 0.3338936\ttotal: 5.45s\tremaining: 1.28s\n",
            "81:\tlearn: 0.3338482\ttotal: 5.51s\tremaining: 1.21s\n",
            "82:\tlearn: 0.3337924\ttotal: 5.56s\tremaining: 1.14s\n",
            "83:\tlearn: 0.3337533\ttotal: 5.61s\tremaining: 1.07s\n",
            "84:\tlearn: 0.3336867\ttotal: 5.65s\tremaining: 997ms\n",
            "85:\tlearn: 0.3336381\ttotal: 5.7s\tremaining: 928ms\n",
            "86:\tlearn: 0.3335838\ttotal: 5.75s\tremaining: 860ms\n",
            "87:\tlearn: 0.3335259\ttotal: 5.8s\tremaining: 791ms\n",
            "88:\tlearn: 0.3334739\ttotal: 5.84s\tremaining: 722ms\n",
            "89:\tlearn: 0.3334094\ttotal: 5.89s\tremaining: 654ms\n",
            "90:\tlearn: 0.3333508\ttotal: 5.93s\tremaining: 587ms\n",
            "91:\tlearn: 0.3332951\ttotal: 6s\tremaining: 522ms\n",
            "92:\tlearn: 0.3332361\ttotal: 6.05s\tremaining: 455ms\n",
            "93:\tlearn: 0.3331858\ttotal: 6.1s\tremaining: 389ms\n",
            "94:\tlearn: 0.3331451\ttotal: 6.14s\tremaining: 323ms\n",
            "95:\tlearn: 0.3330906\ttotal: 6.18s\tremaining: 258ms\n",
            "96:\tlearn: 0.3330622\ttotal: 6.23s\tremaining: 193ms\n",
            "97:\tlearn: 0.3330196\ttotal: 6.28s\tremaining: 128ms\n",
            "98:\tlearn: 0.3329870\ttotal: 6.32s\tremaining: 63.8ms\n",
            "99:\tlearn: 0.3329448\ttotal: 6.36s\tremaining: 0us\n"
          ]
        }
      ]
    },
    {
      "cell_type": "code",
      "source": [
        "report_lg = fairness_report(y_test, y_pred, prot_attr='Etnia',  privileged_values=[1])\n",
        "print(report_lg)"
      ],
      "metadata": {
        "colab": {
          "base_uri": "https://localhost:8080/"
        },
        "outputId": "489f0f62-45fa-4226-dddd-85333960c5f5",
        "id": "PSh0H4VVYAyu"
      },
      "execution_count": null,
      "outputs": [
        {
          "output_type": "stream",
          "name": "stdout",
          "text": [
            "                                  Etnia\n",
            "disparate_impact_ratio         1.703805\n",
            "equal_opportunity_difference   0.038235\n",
            "statistical_parity_difference  0.032049\n",
            "average_odds_difference        0.026871\n"
          ]
        }
      ]
    },
    {
      "cell_type": "code",
      "source": [
        "x = data_etnia.drop(columns=['Diabetes'])\n",
        "y = data_etnia['Diabetes']\n",
        "\n",
        "X_train, X_test, y_train, y_test = train_test_split(x, y, test_size=0.3, random_state=42)\n",
        "\n",
        "ada = AdaBoostClassifier(\n",
        "    DecisionTreeClassifier(max_depth=1),\n",
        "    n_estimators=50,\n",
        "    learning_rate=1.0,\n",
        "    random_state=42\n",
        ")\n",
        "\n",
        "ada.fit(X_train, y_train)\n",
        "\n",
        "y_pred = ada.predict(X_test)"
      ],
      "metadata": {
        "id": "2NIwAeJ3YAyv"
      },
      "execution_count": null,
      "outputs": []
    },
    {
      "cell_type": "code",
      "source": [
        "report = fairness_report(y_test, y_pred, prot_attr='Etnia',  privileged_values=[1])\n",
        "print(report)"
      ],
      "metadata": {
        "colab": {
          "base_uri": "https://localhost:8080/"
        },
        "outputId": "36dd299c-c96b-4c82-acf9-57dbd41e10d5",
        "id": "cbvT_Ap1YAyv"
      },
      "execution_count": null,
      "outputs": [
        {
          "output_type": "stream",
          "name": "stdout",
          "text": [
            "                                  Etnia\n",
            "disparate_impact_ratio         1.326588\n",
            "equal_opportunity_difference   0.001502\n",
            "statistical_parity_difference  0.021186\n",
            "average_odds_difference        0.004739\n"
          ]
        }
      ]
    },
    {
      "cell_type": "code",
      "source": [
        "x = data_etnia.drop(columns=['Diabetes'])\n",
        "y = data_etnia['Diabetes']\n",
        "\n",
        "\n",
        "X_train, X_test, y_train, y_test = train_test_split(x, y, test_size=0.3, random_state=42)\n",
        "\n",
        "\n",
        "xgb_model = xgb.XGBClassifier(\n",
        "    n_estimators=100,\n",
        "    learning_rate=0.1,\n",
        "    max_depth=3,\n",
        "    random_state=42\n",
        ")\n",
        "\n",
        "xgb_model.fit(X_train, y_train)\n",
        "\n",
        "y_pred = xgb_model.predict(X_test)\n"
      ],
      "metadata": {
        "id": "WjNfL8IGYAyw"
      },
      "execution_count": null,
      "outputs": []
    },
    {
      "cell_type": "code",
      "source": [
        "report = fairness_report(y_test, y_pred, prot_attr='Etnia',  privileged_values=[1])\n",
        "print(report)"
      ],
      "metadata": {
        "colab": {
          "base_uri": "https://localhost:8080/"
        },
        "outputId": "cc777692-389b-42f6-c7e5-77b9f83b5af6",
        "id": "za4k2JokYAyw"
      },
      "execution_count": null,
      "outputs": [
        {
          "output_type": "stream",
          "name": "stdout",
          "text": [
            "                                  Etnia\n",
            "disparate_impact_ratio         1.670380\n",
            "equal_opportunity_difference   0.035653\n",
            "statistical_parity_difference  0.031003\n",
            "average_odds_difference        0.025200\n"
          ]
        }
      ]
    }
  ]
}
